{
 "cells": [
  {
   "cell_type": "markdown",
   "metadata": {},
   "source": [
    "# Тема\n",
    "\n",
    "---\n",
    "\n",
    "Автор: Гимазетдинов Дмитрий\n",
    "\n",
    "ТГ: [@devwhoami](https://t.me/s/devwhoami)\n",
    "\n",
    "GitHub: [C4be](https://github.com/C4be)\n",
    "\n",
    "---\n",
    "\n",
    "Ключевые вопросы параграфа:\n",
    "\n"
   ]
  },
  {
   "cell_type": "markdown",
   "metadata": {},
   "source": [
    "## 1."
   ]
  },
  {
   "cell_type": "markdown",
   "metadata": {},
   "source": [
    "## 2."
   ]
  },
  {
   "cell_type": "markdown",
   "metadata": {},
   "source": [
    "## 3."
   ]
  },
  {
   "cell_type": "markdown",
   "metadata": {},
   "source": [
    "## Задачи "
   ]
  },
  {
   "cell_type": "markdown",
   "metadata": {},
   "source": [
    "## Полезные материалы\n",
    "\n",
    "***WILL BE SOON***"
   ]
  }
 ],
 "metadata": {
  "language_info": {
   "name": "python"
  }
 },
 "nbformat": 4,
 "nbformat_minor": 2
}
