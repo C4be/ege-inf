{
 "cells": [
  {
   "cell_type": "markdown",
   "metadata": {},
   "source": [
    "# Домашнее задание по теме \"Переменные\""
   ]
  },
  {
   "cell_type": "markdown",
   "metadata": {},
   "source": [
    "Автор: Гимазетдинов Дмитрий\n",
    "\n",
    "ТГ: [@devwhoami](https://t.me/s/devwhoami)\n",
    "\n",
    "GitHub: [C4be](https://github.com/C4be)"
   ]
  },
  {
   "cell_type": "markdown",
   "metadata": {},
   "source": [
    "## Задание 1:\n",
    "\n",
    "Создай переменные с именем, возрастом и любимым цветом пользователя. Выведи сообщение вроде:\n",
    "\n",
    "```text\n",
    "Привет, Оля! Тебе 14 лет, и твой любимый цвет — синий.\n",
    "```"
   ]
  },
  {
   "cell_type": "code",
   "execution_count": 1,
   "metadata": {},
   "outputs": [],
   "source": [
    "# Пищи свой код ниже\n"
   ]
  }
 ],
 "metadata": {
  "kernelspec": {
   "display_name": ".venv",
   "language": "python",
   "name": "python3"
  },
  "language_info": {
   "codemirror_mode": {
    "name": "ipython",
    "version": 3
   },
   "file_extension": ".py",
   "mimetype": "text/x-python",
   "name": "python",
   "nbconvert_exporter": "python",
   "pygments_lexer": "ipython3",
   "version": "3.9.6"
  }
 },
 "nbformat": 4,
 "nbformat_minor": 2
}
