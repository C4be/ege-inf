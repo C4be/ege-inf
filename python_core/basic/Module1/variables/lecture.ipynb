{
 "cells": [
  {
   "cell_type": "markdown",
   "metadata": {},
   "source": [
    "# Переменные в Python"
   ]
  },
  {
   "cell_type": "markdown",
   "metadata": {},
   "source": [
    "Автор: Гимазетдинов Дмитрий\n",
    "\n",
    "ТГ: [@devwhoami](https://t.me/s/devwhoami)\n",
    "\n",
    "GitHub: [C4be](https://github.com/C4be)"
   ]
  },
  {
   "cell_type": "markdown",
   "metadata": {},
   "source": [
    "> Переменная — это коробка с именем, в которую мы можем положить какое-то значение. Потом мы можем снова открыть эту коробку, посмотреть, что там лежит, изменить содержимое или использовать его в вычислениях.\n",
    "\n",
    "Без переменных наш код будет хаосом — как если бы вы каждый раз заново вводили одни и те же данные. С переменными можно:\n",
    "\n",
    "- Сохранять значения, чтобы использовать их позже\n",
    "- Передавать данные между частями программы\n",
    "- Делать вычисления, сравнения и многое другое"
   ]
  },
  {
   "cell_type": "code",
   "execution_count": 6,
   "metadata": {},
   "outputs": [],
   "source": [
    "name = 'Antony'\n",
    "age = 15\n",
    "marks = [5, 5, 5, 4, 2, 5]"
   ]
  },
  {
   "cell_type": "markdown",
   "metadata": {},
   "source": [
    "#### Правила наименования\n",
    "\n",
    "Хорошие имена переменных делают код понятнее. Вот несколько правил:"
   ]
  },
  {
   "cell_type": "markdown",
   "metadata": {},
   "source": [
    "###### Хорошо:"
   ]
  },
  {
   "cell_type": "code",
   "execution_count": 1,
   "metadata": {},
   "outputs": [],
   "source": [
    "user_name = \"Анна\"\n",
    "current_temperature = 23"
   ]
  },
  {
   "cell_type": "markdown",
   "metadata": {},
   "source": [
    "###### Плохо:"
   ]
  },
  {
   "cell_type": "code",
   "execution_count": 2,
   "metadata": {},
   "outputs": [],
   "source": [
    "a = \"Анна\"  # Непонятно, что такое a\n",
    "temp = 23   # Что за temp? Температура? Темп музыки?"
   ]
  },
  {
   "cell_type": "markdown",
   "metadata": {},
   "source": [
    "#### Явное указание типа (по желанию)\n",
    "\n",
    "Python — динамически типизированный язык. Это значит, что ты можешь просто написать:"
   ]
  },
  {
   "cell_type": "code",
   "execution_count": 3,
   "metadata": {},
   "outputs": [],
   "source": [
    "score = 100"
   ]
  },
  {
   "cell_type": "markdown",
   "metadata": {},
   "source": [
    "Но начиная с Python 3.6 ты **можешь (но не обязан)** явно указывать, какого типа переменная, вот так:"
   ]
  },
  {
   "cell_type": "code",
   "execution_count": 4,
   "metadata": {},
   "outputs": [],
   "source": [
    "name: str = \"Катя\"\n",
    "age: int = 17\n",
    "price: float = 99.99"
   ]
  },
  {
   "cell_type": "markdown",
   "metadata": {},
   "source": [
    "Это позволит тебе правильно ориентироваться, а так же даст явные подсказки среде, каким функционалом ты можешь пользоваться, а каким нет."
   ]
  },
  {
   "cell_type": "markdown",
   "metadata": {},
   "source": [
    "###### Еще пример"
   ]
  },
  {
   "cell_type": "code",
   "execution_count": 5,
   "metadata": {},
   "outputs": [
    {
     "name": "stdout",
     "output_type": "stream",
     "text": [
      "Миша — ученик. Ему 12 лет.\n"
     ]
    }
   ],
   "source": [
    "# Пример 1\n",
    "name = \"Миша\"\n",
    "age = 12\n",
    "print(f\"{name} — ученик. Ему {age} лет.\")\n",
    "\n",
    "# Пример 2 с явными типами:\n",
    "height_cm: int = 160\n",
    "weight_kg: float = 50.5"
   ]
  }
 ],
 "metadata": {
  "kernelspec": {
   "display_name": ".venv",
   "language": "python",
   "name": "python3"
  },
  "language_info": {
   "codemirror_mode": {
    "name": "ipython",
    "version": 3
   },
   "file_extension": ".py",
   "mimetype": "text/x-python",
   "name": "python",
   "nbconvert_exporter": "python",
   "pygments_lexer": "ipython3",
   "version": "3.9.6"
  }
 },
 "nbformat": 4,
 "nbformat_minor": 2
}
