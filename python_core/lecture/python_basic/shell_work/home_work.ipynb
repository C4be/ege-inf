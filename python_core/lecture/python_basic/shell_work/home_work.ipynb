{
 "cells": [
  {
   "cell_type": "markdown",
   "metadata": {},
   "source": [
    "# Домашнее задание по теме \"Работа с вводом и выводом данных\""
   ]
  },
  {
   "cell_type": "markdown",
   "metadata": {},
   "source": [
    "#### Задание 1:\n",
    "\n",
    "Напиши программу, которая спрашивает у пользователя его имя и возраст, а затем выводит сообщение!"
   ]
  },
  {
   "cell_type": "code",
   "execution_count": null,
   "metadata": {},
   "outputs": [],
   "source": [
    "# Сейчас name и age равны None — нужно получить их от пользователя с помощью input()\n",
    "name = None\n",
    "age = None\n",
    "\n",
    "print(f'{name}, Какое у тебя красивое имя. Ты уже такой большой ({age})!')"
   ]
  },
  {
   "cell_type": "markdown",
   "metadata": {},
   "source": [
    "#### Задание 2:\n",
    "\n",
    "Напиши программу, которая спрашивает у пользователя длину и ширину прямоугольника, затем выводит его площадь и периметр."
   ]
  },
  {
   "cell_type": "code",
   "execution_count": null,
   "metadata": {},
   "outputs": [],
   "source": [
    "print('Введите длину: ')\n",
    "print('Введите ширину: ')\n",
    "\n",
    "x = None\n",
    "y = None\n",
    "\n",
    "area = x * y\n",
    "perimeter = None\n",
    "\n",
    "print(f'Площадь: {area}')\n",
    "print(f'Периметр: {perimeter}')"
   ]
  },
  {
   "cell_type": "markdown",
   "metadata": {},
   "source": [
    "#### Задание 3:\n",
    "\n",
    "Напиши программу, которая спрашивает у пользователя три числа и выводит их сумму, произведение и среднее арифметическое."
   ]
  },
  {
   "cell_type": "code",
   "execution_count": null,
   "metadata": {},
   "outputs": [],
   "source": [
    "print('Введите число 1: ')\n",
    "a = None\n",
    "print('Введите число 2: ')\n",
    "b = None\n",
    "print('Введите число 3: ')\n",
    "c = None\n",
    "\n",
    "summa = a + b + c\n",
    "composition = None\n",
    "mean = None\n",
    "\n",
    "print(f'Сумма -> {summa}')\n",
    "print(f'Произведение -> {composition}')\n",
    "print(f'Среднее -> {mean}')\n"
   ]
  },
  {
   "cell_type": "markdown",
   "metadata": {},
   "source": [
    "#### Задание 4:\n",
    "\n",
    "Найди и исправь одну ошибку"
   ]
  },
  {
   "cell_type": "code",
   "execution_count": null,
   "metadata": {},
   "outputs": [],
   "source": [
    "name = input(\"Введите ваше имя: \")\n",
    "age = input(\"Введите ваш возраст: \")\n",
    "\n",
    "print(\"Привет, \" + name + \"! Через год тебе будет \" + age + 1)"
   ]
  },
  {
   "cell_type": "markdown",
   "metadata": {},
   "source": [
    "#### Задание 5:\n",
    "\n",
    "Найди и исправь одну ошибку"
   ]
  },
  {
   "cell_type": "code",
   "execution_count": null,
   "metadata": {},
   "outputs": [],
   "source": [
    "number1 = input(\"Введите первое число: \")\n",
    "number2 = input(\"Введите второе число: \")\n",
    "\n",
    "result = number1 + number2\n",
    "\n",
    "print(\"Сумма чисел:\", result)"
   ]
  }
 ],
 "metadata": {
  "kernelspec": {
   "display_name": ".venv",
   "language": "python",
   "name": "python3"
  },
  "language_info": {
   "codemirror_mode": {
    "name": "ipython",
    "version": 3
   },
   "file_extension": ".py",
   "mimetype": "text/x-python",
   "name": "python",
   "nbconvert_exporter": "python",
   "pygments_lexer": "ipython3",
   "version": "3.9.6"
  }
 },
 "nbformat": 4,
 "nbformat_minor": 2
}
